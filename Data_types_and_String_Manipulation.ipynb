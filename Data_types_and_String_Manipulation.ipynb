{
  "nbformat": 4,
  "nbformat_minor": 0,
  "metadata": {
    "colab": {
      "provenance": []
    },
    "kernelspec": {
      "name": "python3",
      "display_name": "Python 3"
    },
    "language_info": {
      "name": "python"
    }
  },
  "cells": [
    {
      "cell_type": "markdown",
      "source": [
        "#**Task 1**\n",
        "Write a program that takes a string as input and prints its length."
      ],
      "metadata": {
        "id": "yA2807PgC0XC"
      }
    },
    {
      "cell_type": "markdown",
      "source": [
        "#**Task 2**\n",
        "Write a program that performs basic string operations as follows:\n",
        "\n",
        "1.  String Slicing:\n",
        "\n",
        "  *   Prompt the user to enter a string.\n",
        "  *   Print the first 4 characters of the string using slicing.\n",
        "\n",
        "\n",
        "2. String Formatting:\n",
        "\n",
        "  *   Prompt the user to enter their favorite color.\n",
        "  *   Format a string to print a message: \"Your favorite color is [color].\"\n",
        "\n",
        "\n"
      ],
      "metadata": {
        "id": "ApWXVCh7C5Go"
      }
    },
    {
      "cell_type": "code",
      "source": [
        "# Task 01\n",
        "string = input(\"Kindly enter your name: \")\n",
        "print(len(string))"
      ],
      "metadata": {
        "colab": {
          "base_uri": "https://localhost:8080/"
        },
        "id": "J60zUyKwpqq6",
        "outputId": "98eb6f32-999f-4470-d36a-b0010406b076"
      },
      "execution_count": 1,
      "outputs": [
        {
          "output_type": "stream",
          "name": "stdout",
          "text": [
            "Kindly enter your name: Umaisa\n",
            "6\n"
          ]
        }
      ]
    },
    {
      "cell_type": "code",
      "source": [
        "# Task 02\n",
        "# String Slicing:\n",
        "string_name = input(\"Kindly enter your Father Name: \")\n",
        "print(\"The first 4 characters are:\", string_name[:4])"
      ],
      "metadata": {
        "colab": {
          "base_uri": "https://localhost:8080/"
        },
        "id": "q7w9o_TzqBWy",
        "outputId": "0f26339b-d4f6-4fa2-9f87-cba64509b161"
      },
      "execution_count": 2,
      "outputs": [
        {
          "output_type": "stream",
          "name": "stdout",
          "text": [
            "Kindly enter your Father Name: Shujaat\n",
            "The first 4 characters are: Shuj\n"
          ]
        }
      ]
    },
    {
      "cell_type": "code",
      "source": [
        "# Tash 03\n",
        "# String Formatting:\n",
        "\n",
        "fav_color = input(\"What is your favourite color: \")\n",
        "print(f\"Wow!! Your favourite color is {fav_color}\")"
      ],
      "metadata": {
        "colab": {
          "base_uri": "https://localhost:8080/"
        },
        "id": "Z7z6CTS8qBkR",
        "outputId": "5860089e-5f25-44f2-c8da-bcd63c28d990"
      },
      "execution_count": 3,
      "outputs": [
        {
          "output_type": "stream",
          "name": "stdout",
          "text": [
            "What is your favourite color: Purple\n",
            "Wow!! Your favourite color is Purple\n"
          ]
        }
      ]
    }
  ]
}